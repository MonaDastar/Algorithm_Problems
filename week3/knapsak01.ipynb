{
 "cells": [
  {
   "cell_type": "code",
   "execution_count": 5,
   "id": "b2d6eebf-d0a0-4443-b671-852a19854541",
   "metadata": {},
   "outputs": [
    {
     "name": "stdout",
     "output_type": "stream",
     "text": [
      "[('item1', 5.0), ('item2', 6.666666666666667), ('item3', 3.0), ('item4', 3.5714285714285716), ('item5', 5.0)]\n",
      "[('item2', 6.666666666666667), ('item1', 5.0), ('item5', 5.0), ('item4', 3.5714285714285716), ('item3', 3.0)]\n"
     ]
    }
   ],
   "source": [
    "def knapsak():\n",
    "    dict_item = { \"item1\" : (2.00, 10),\n",
    "                 \"item2\" : (3.00,20),\n",
    "                 \"item3\" : (5.00,15),\n",
    "                 \"item4\" : (7.00,25),\n",
    "                 \"item5\" : (1.00,5)\n",
    "                }\n",
    "    ratio = [ (item, value/weight) for item, (weight , value)  in dict_item.items()]\n",
    "    print (ratio)\n",
    "    sorted_ratio = sorted(ratio, key=lambda x:x[1], reverse = True )\n",
    "    print(sorted_ratio)\n",
    "knapsak()"
   ]
  },
  {
   "cell_type": "code",
   "execution_count": 17,
   "id": "f5959154-80b5-4bb5-a054-711cec8b7ab4",
   "metadata": {},
   "outputs": [
    {
     "data": {
      "text/plain": [
       "(13.0, 25, ['diamond', 'gold', 'silver', 'copper'])"
      ]
     },
     "execution_count": 17,
     "metadata": {},
     "output_type": "execute_result"
    }
   ],
   "source": [
    "def knapsak():\n",
    "    max = 15\n",
    "    bag_weight =0 \n",
    "    items = { \"gold\" : (2.00, 10),\n",
    "                 \"diamond\" : (3.00,20),\n",
    "                 \"bronze\" : (5.00,15),\n",
    "                 \"copper\" : (7.00,25),\n",
    "                 \"silver\" : (1.00,5)\n",
    "                }\n",
    "    ratio = [ (item, value/weight) for item, (weight , value)  in items.items()]\n",
    "\n",
    "    sorted_ratio = sorted(ratio, key=lambda x:x[1], reverse = True )\n",
    "    bag_value=0\n",
    "    list_of_items_in_the_bag = []\n",
    "    for item,_ in sorted_ratio:\n",
    "        \n",
    "        if bag_weight+items[item][0]<= max:\n",
    "            bag_weight += items[item][0]\n",
    "            bag_value = items[item][1]\n",
    "            list_of_items_in_the_bag.append(item)\n",
    "        else:\n",
    "            break\n",
    "    return(bag_weight,bag_value,list_of_items_in_the_bag)\n",
    "            \n",
    "knapsak()"
   ]
  },
  {
   "cell_type": "code",
   "execution_count": null,
   "id": "62c7986c-b3a5-4e10-ad03-4d3034414053",
   "metadata": {},
   "outputs": [],
   "source": []
  }
 ],
 "metadata": {
  "kernelspec": {
   "display_name": "Python 3 (ipykernel)",
   "language": "python",
   "name": "python3"
  },
  "language_info": {
   "codemirror_mode": {
    "name": "ipython",
    "version": 3
   },
   "file_extension": ".py",
   "mimetype": "text/x-python",
   "name": "python",
   "nbconvert_exporter": "python",
   "pygments_lexer": "ipython3",
   "version": "3.10.12"
  }
 },
 "nbformat": 4,
 "nbformat_minor": 5
}
