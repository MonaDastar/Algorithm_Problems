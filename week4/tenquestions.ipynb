{
 "cells": [
  {
   "cell_type": "code",
   "execution_count": 4,
   "metadata": {},
   "outputs": [
    {
     "ename": "ValueError",
     "evalue": "invalid literal for int() with base 10: 'm'",
     "output_type": "error",
     "traceback": [
      "\u001b[0;31m---------------------------------------------------------------------------\u001b[0m",
      "\u001b[0;31mValueError\u001b[0m                                Traceback (most recent call last)",
      "Cell \u001b[0;32mIn[4], line 8\u001b[0m\n\u001b[1;32m      5\u001b[0m             \u001b[38;5;28mprint\u001b[39m(s)\n\u001b[1;32m      6\u001b[0m             \u001b[38;5;28;01mbreak\u001b[39;00m\n\u001b[0;32m----> 8\u001b[0m \u001b[43mleftDigit\u001b[49m\u001b[43m(\u001b[49m\u001b[38;5;124;43m\"\u001b[39;49m\u001b[38;5;124;43mmona1Dastar\u001b[39;49m\u001b[38;5;124;43m\"\u001b[39;49m\u001b[43m)\u001b[49m\n",
      "Cell \u001b[0;32mIn[4], line 4\u001b[0m, in \u001b[0;36mleftDigit\u001b[0;34m(string)\u001b[0m\n\u001b[1;32m      2\u001b[0m \u001b[38;5;250m\u001b[39m\u001b[38;5;124;03m\"\"\" gets string returns the first integer in the left of the string\"\"\"\u001b[39;00m\n\u001b[1;32m      3\u001b[0m \u001b[38;5;28;01mfor\u001b[39;00m s \u001b[38;5;129;01min\u001b[39;00m string:\n\u001b[0;32m----> 4\u001b[0m     \u001b[38;5;28;01mif\u001b[39;00m \u001b[38;5;28;43mint\u001b[39;49m\u001b[43m(\u001b[49m\u001b[43ms\u001b[49m\u001b[43m)\u001b[49m \u001b[38;5;129;01min\u001b[39;00m \u001b[38;5;28mrange\u001b[39m(\u001b[38;5;241m0\u001b[39m,\u001b[38;5;241m10\u001b[39m):\n\u001b[1;32m      5\u001b[0m         \u001b[38;5;28mprint\u001b[39m(s)\n\u001b[1;32m      6\u001b[0m         \u001b[38;5;28;01mbreak\u001b[39;00m\n",
      "\u001b[0;31mValueError\u001b[0m: invalid literal for int() with base 10: 'm'"
     ]
    }
   ],
   "source": [
    "def leftDigit(string):\n",
    "    \"\"\" gets string returns the first integer in the left of the string\"\"\"\n",
    "    for s in string:\n",
    "        if int(s) in range(0,10):\n",
    "            print(s)\n",
    "            break\n",
    "\n",
    "leftDigit(\"mona1Dastar\")\n",
    "          \n",
    "    "
   ]
  },
  {
   "cell_type": "code",
   "execution_count": 5,
   "metadata": {},
   "outputs": [
    {
     "name": "stdout",
     "output_type": "stream",
     "text": [
      "1\n"
     ]
    }
   ],
   "source": [
    "def leftDigit(string):\n",
    "    \"\"\" gets string returns the first integer in the left of the string\"\"\"\n",
    "    for s in string:\n",
    "        if s.isdigit():\n",
    "            print(s)\n",
    "            break\n",
    "\n",
    "leftDigit(\"mona1Dastar\")\n",
    "          \n",
    "    "
   ]
  },
  {
   "cell_type": "code",
   "execution_count": 12,
   "metadata": {},
   "outputs": [
    {
     "name": "stdout",
     "output_type": "stream",
     "text": [
      "1\n"
     ]
    }
   ],
   "source": [
    "def countOnes(array):\n",
    "    \"\"\" retutns the number of adjacent ones in an array of 0 and 1\n",
    "    for example 1010110111 will return 2 \"\"\"\n",
    "    counter = 0 \n",
    "    one_counter = 0\n",
    "    for number in array:\n",
    "        if number == \"1\":\n",
    "            counter+=1\n",
    "        else:\n",
    "            if counter>1:\n",
    "                one_counter += 1\n",
    "            else:\n",
    "                counter = 0\n",
    "    if counter == len(array):\n",
    "        one_counter = 1\n",
    "    return(one_counter)\n",
    "\n",
    "\n",
    "print(countOnes(\"11011\"))\n",
    "            \n",
    "            "
   ]
  },
  {
   "cell_type": "code",
   "execution_count": 14,
   "metadata": {},
   "outputs": [
    {
     "name": "stdout",
     "output_type": "stream",
     "text": [
      "3\n"
     ]
    }
   ],
   "source": [
    "def countOnes(array):\n",
    "    \"\"\" returns the number of adjacent ones in an array of 0 and 1\n",
    "    for example 1010110111 will return 2 \"\"\"\n",
    "    counter = 0 \n",
    "    one_counter = 0\n",
    "    for number in array:\n",
    "        if number == \"1\":\n",
    "            counter+=1\n",
    "        else:\n",
    "            if counter>1:\n",
    "                one_counter += 1\n",
    "                counter = 0\n",
    "            else:\n",
    "                counter = 0\n",
    "    if counter >1:\n",
    "        one_counter += 1\n",
    "    return(one_counter)\n",
    "\n",
    "\n",
    "print(countOnes(\"11011011111111\"))"
   ]
  },
  {
   "cell_type": "code",
   "execution_count": 15,
   "metadata": {},
   "outputs": [],
   "source": [
    "from typing import Tuple, List\n",
    "\n",
    "def reversedRange(data: Tuple[List[int], int, int]) -> list:\n",
    "    my_list, index1, index2 = data\n",
    "    rev_list = my_list[index1:index2+1]\n",
    "    rev_list = rev_list[::-1]\n",
    "    new_list = []\n",
    "    \n",
    "    for i in range(len(my_list)):\n",
    "        if i < index1:\n",
    "            new_list.append(my_list[i])\n",
    "        elif i == index1 or i<= index2:\n",
    "            new_list.append(rev_list)\n",
    "        elif i> index2 and i<= len(my_list):\n",
    "            new_list.append(my_list[i])\n",
    "\n"
   ]
  },
  {
   "cell_type": "code",
   "execution_count": 16,
   "metadata": {},
   "outputs": [
    {
     "name": "stdout",
     "output_type": "stream",
     "text": [
      "[0, 1, 5, 4, 3, 2, 6, 7, 8, 9]\n"
     ]
    }
   ],
   "source": [
    "def countOnes(array):\n",
    "    \"\"\" returns the number of adjacent ones in an array of 0 and 1\n",
    "    for example 1010110111 will return 2 \"\"\"\n",
    "    counter = 0 \n",
    "    one_counter = 0\n",
    "    for number in array:\n",
    "        if number == \"1\":\n",
    "            counter+=1\n",
    "        else:\n",
    "            if counter>1:\n",
    "                one_counter += 1\n",
    "                counter = 0\n",
    "            else:\n",
    "                counter = 0\n",
    "    if counter >1:\n",
    "        one_counter += 1\n",
    "    return(one_counter)\n",
    "\n",
    "\n",
    "# print(countOnes(\"110110111111110\"))\n",
    "\n",
    "\n",
    "\n",
    "\n",
    "\n",
    "from typing import Tuple, List\n",
    "\n",
    "def reversedRange(data: Tuple[List[int], int, int]) -> list:\n",
    "    my_list, index1, index2 = data\n",
    "    rev_list = my_list[index1:index2+1]\n",
    "    rev_list = rev_list[::-1]\n",
    "    new_list = []\n",
    "    \n",
    "    # for i in range(len(my_list)):\n",
    "    #     if i < index1:\n",
    "    #         new_list.append(my_list[i])\n",
    "    #     elif i == index1 or i<= index2:\n",
    "    #         new_list.append(rev_list)\n",
    "    #     elif i> index2 and i<= len(my_list):\n",
    "    #         new_list.append(my_list[i])\n",
    "    new_list= my_list[0:index1] \n",
    "    for _ in rev_list:\n",
    "        new_list.append(_)\n",
    "    for _ in my_list[index2+1:]:\n",
    "        new_list.append(_)\n",
    "    return(new_list)\n",
    "            \n",
    "    \n",
    "data=([0,1,2,3,4,5,6,7,8,9],2,5)\n",
    "print(reversedRange(data))\n"
   ]
  },
  {
   "cell_type": "code",
   "execution_count": 22,
   "metadata": {},
   "outputs": [
    {
     "name": "stdout",
     "output_type": "stream",
     "text": [
      "False\n"
     ]
    }
   ],
   "source": [
    "def isFactorial(x:int)-> bool:\n",
    "    if x % 2 != 0 :\n",
    "        return False\n",
    "    else:\n",
    "        for i in range(2,x):\n",
    "            x = x / i\n",
    "            if x==1:\n",
    "                return True\n",
    "                break\n",
    "        if x!=1:\n",
    "            return(False)\n",
    "print(isFactorial(4))"
   ]
  },
  {
   "cell_type": "code",
   "execution_count": 27,
   "metadata": {},
   "outputs": [
    {
     "name": "stdout",
     "output_type": "stream",
     "text": [
      "[0.25, 1.25, 2.25]\n"
     ]
    }
   ],
   "source": [
    "def genValues(x:int,y:float)->list:\n",
    "    my_list=[]\n",
    "    for i in range(0,x+1):\n",
    "        my_list.append(i+y)\n",
    "    return my_list\n",
    "print(genValues(2,0.25))\n",
    "        "
   ]
  },
  {
   "cell_type": "code",
   "execution_count": 31,
   "metadata": {},
   "outputs": [
    {
     "ename": "SyntaxError",
     "evalue": "invalid syntax (113290934.py, line 2)",
     "output_type": "error",
     "traceback": [
      "\u001b[0;36m  Cell \u001b[0;32mIn[31], line 2\u001b[0;36m\u001b[0m\n\u001b[0;31m    my_list=[0:x,0.25]\u001b[0m\n\u001b[0m              ^\u001b[0m\n\u001b[0;31mSyntaxError\u001b[0m\u001b[0;31m:\u001b[0m invalid syntax\n"
     ]
    }
   ],
   "source": [
    "def genValues(x:int,y:float)->list:\n",
    "    my_list=[0:x,0.25]\n",
    "\n",
    "\n",
    "print(genValues(2,0.25))"
   ]
  },
  {
   "cell_type": "code",
   "execution_count": 32,
   "metadata": {},
   "outputs": [
    {
     "name": "stdout",
     "output_type": "stream",
     "text": [
      "[0, 0.25, 0.5, 0.75, 1.0, 1.25, 1.5, 1.75, 2.0]\n"
     ]
    }
   ],
   "source": [
    "def genValues(x:int,y:float)->list:\n",
    "    my_list=[]\n",
    "    step = 0\n",
    "    while step <= x:\n",
    "        my_list.append(step)\n",
    "        step += y\n",
    "    return my_list\n",
    "print(genValues(2,0.25))"
   ]
  },
  {
   "cell_type": "code",
   "execution_count": 34,
   "metadata": {},
   "outputs": [
    {
     "ename": "TypeError",
     "evalue": "'float' object cannot be interpreted as an integer",
     "output_type": "error",
     "traceback": [
      "\u001b[0;31m---------------------------------------------------------------------------\u001b[0m",
      "\u001b[0;31mTypeError\u001b[0m                                 Traceback (most recent call last)",
      "Cell \u001b[0;32mIn[34], line 2\u001b[0m\n\u001b[1;32m      1\u001b[0m x\u001b[38;5;241m=\u001b[39m\u001b[38;5;241m4\u001b[39m\n\u001b[0;32m----> 2\u001b[0m mylist \u001b[38;5;241m=\u001b[39m [i\u001b[38;5;241m+\u001b[39m\u001b[38;5;241m0.25\u001b[39m \u001b[38;5;28;01mfor\u001b[39;00m i \u001b[38;5;129;01min\u001b[39;00m \u001b[38;5;28;43mrange\u001b[39;49m\u001b[43m(\u001b[49m\u001b[43mx\u001b[49m\u001b[38;5;241;43m/\u001b[39;49m\u001b[38;5;241;43m/\u001b[39;49m\u001b[38;5;241;43m0.25\u001b[39;49m\u001b[43m)\u001b[49m ]\n\u001b[1;32m      3\u001b[0m \u001b[38;5;28mprint\u001b[39m(mylist)\n",
      "\u001b[0;31mTypeError\u001b[0m: 'float' object cannot be interpreted as an integer"
     ]
    }
   ],
   "source": [
    "x=4\n",
    "mylist = [i+0.25 for i in range(x//0.25) ]\n",
    "print(mylist)"
   ]
  },
  {
   "cell_type": "code",
   "execution_count": 40,
   "metadata": {},
   "outputs": [
    {
     "name": "stdout",
     "output_type": "stream",
     "text": [
      "[0, 1, 0, 0]\n"
     ]
    }
   ],
   "source": [
    "def reversedBinaryInteger(x:int)-> list:\n",
    "    my_list=[]\n",
    "    while x >= 2 :\n",
    "        my_list.append(x%2)\n",
    "        x = x //  2\n",
    "    my_list.append(0)\n",
    "print(reversedBinaryInteger(10))\n"
   ]
  },
  {
   "cell_type": "code",
   "execution_count": 42,
   "metadata": {},
   "outputs": [
    {
     "name": "stdout",
     "output_type": "stream",
     "text": [
      "[0, 1, 0, 1]\n"
     ]
    }
   ],
   "source": [
    "def reversedBinaryInteger(x:int)-> list:\n",
    "    my_list=[]\n",
    "    while x >= 1 :\n",
    "        my_list.append(x%2)\n",
    "        x = x //  2\n",
    "    return(my_list)\n",
    "print(reversedBinaryInteger(10))"
   ]
  },
  {
   "cell_type": "code",
   "execution_count": 44,
   "metadata": {},
   "outputs": [
    {
     "name": "stdout",
     "output_type": "stream",
     "text": [
      "[1, 0, 1, 0]\n"
     ]
    }
   ],
   "source": [
    "def reversedBinaryInteger(x:int)-> list:\n",
    "    my_list=[]\n",
    "    while x >= 1 :\n",
    "        my_list.append(x%2)\n",
    "        x = x //  2\n",
    "    return(my_list[::-1])\n",
    "print(reversedBinaryInteger(10))"
   ]
  },
  {
   "cell_type": "code",
   "execution_count": 48,
   "metadata": {},
   "outputs": [
    {
     "name": "stdout",
     "output_type": "stream",
     "text": [
      "19\n"
     ]
    }
   ],
   "source": [
    "def reversedBinaryInteger(x:int)-> int:\n",
    "    my_list=[]\n",
    "    while x >= 1 :\n",
    "        my_list.append(x%2)\n",
    "        x = x //  2\n",
    "    my_list = my_list[::-1] #shows 1010 =10\n",
    "\n",
    "    rev_list = my_list[::-1] #shows 0101 =5\n",
    "    pow=len(rev_list)-1\n",
    "    rev_num=0\n",
    "    for i in rev_list:\n",
    "            rev_num += i*(2**pow)\n",
    "            pow -=1\n",
    "\n",
    "    return(rev_num)\n",
    "print(reversedBinaryInteger(25))\n",
    "    "
   ]
  },
  {
   "cell_type": "code",
   "execution_count": 55,
   "metadata": {},
   "outputs": [
    {
     "name": "stdout",
     "output_type": "stream",
     "text": [
      "[1, 1, 1, 1, 1, 5, 1, 5, 1, 1, 5, 1, 2, 1, 5, 1, 2, 1, 1, 5, 1, 2, 1, 2, 1, 5, 1, 2, 1, 2, 1, 5, 1, 2, 1, 2, 1, 5, 1, 2, 1, 2, 5, 1, 5, 1, 2, 1, 2, 5, 1, 5, 1, 2, 1, 2, 5, 1, 5, 1, 2, 1, 2, 5, 1, 5, 1, 2, 1, 2, 5, 1, 5, 1, 2, 1, 2, 5, 10, 1, 5, 1, 2, 1, 2, 5, 10, 1, 5, 1, 2, 1, 2, 5, 10, 1, 5, 1, 2, 1, 2, 5, 10, 1, 5, 1, 2, 1, 2, 5, 10, 1, 5, 1, 2, 1, 2, 5, 10, 1, 5, 1, 2, 1, 2, 5, 10, 1, 5, 1, 2, 1, 2, 5, 10, 1, 5, 1, 2, 1, 2, 5, 10, 1, 5, 1, 2, 1, 2, 5, 10, 1, 5, 1, 2, 1, 2, 5, 10, 1, 5, 1, 2, 1, 2, 5, 10, 1, 5, 1, 2, 1, 2, 5, 10, 1, 5, 1, 2, 1, 2, 5, 10, 1, 5, 1, 2, 1, 2, 5, 10, 1, 5, 1, 2, 1, 2, 5, 10, 25, 1, 5, 1, 2, 1, 2, 5, 10, 25, 1, 5, 1, 2, 1, 2, 5, 10, 25, 1, 5, 1, 2, 1, 2, 5, 10, 25, 1, 5, 1, 2, 1, 2, 5, 10, 25, 1, 5, 1, 2, 1, 2, 5, 10, 25, 1, 5, 1, 2, 1, 2, 5, 10, 25, 1, 5, 1, 2, 1, 2, 5, 10, 25, 1, 5, 1, 2, 1, 2, 5, 10, 25, 1, 5, 1, 2, 1, 2, 5, 10, 25, 1, 5, 1, 2, 1, 2, 5, 10, 25, 1, 5, 1, 2, 1, 2, 5, 10, 25, 1, 5, 1, 2, 1, 2, 5, 10, 25, 1, 5, 1, 2, 1, 2, 5, 10, 25, 1, 5, 1, 2, 1, 2, 5, 10, 25, 1, 5, 1, 2, 1, 2, 5, 10, 25, 1, 5, 1, 2, 1, 2, 5, 10, 25, 1, 5, 1, 2, 1, 2, 5, 10, 25, 1, 5, 1, 2, 1, 2, 5, 10, 25, 1, 5, 1, 2, 1, 2, 5, 10, 25, 1, 5, 1, 2, 1, 2, 5, 10, 25, 1, 5, 1, 2, 1, 2, 5, 10, 25, 1, 5, 1, 2, 1, 2, 5, 10, 25, 1, 5, 1, 2, 1, 2, 5, 10, 25, 1, 5, 1, 2, 1, 2, 5, 10, 25, 1, 5, 1, 2, 1, 2, 5, 10, 25, 50]\n"
     ]
    }
   ],
   "source": [
    "from typing import List\n",
    "\n",
    "def gcd( array :list)-> int:\n",
    "    gcd = 0\n",
    "    list_of_gcd = []\n",
    "    list_of_gcds = []\n",
    "    devide_remaining = 0\n",
    "    for number in array:\n",
    "        for i in range (1,number+1):\n",
    "            devide_remaining  = number % i\n",
    "            if  devide_remaining  == 0:\n",
    "                list_of_gcd.append(i)\n",
    "            list_of_gcds+=list_of_gcd\n",
    "            \n",
    "    return(list_of_gcds)\n",
    "print(gcd([5,2,50]))         \n",
    "        "
   ]
  },
  {
   "cell_type": "code",
   "execution_count": 56,
   "metadata": {},
   "outputs": [
    {
     "name": "stdout",
     "output_type": "stream",
     "text": [
      "[5, 6, 12, 30]\n"
     ]
    }
   ],
   "source": [
    "def countOnes(array):\n",
    "    \"\"\" returns the number of adjacent ones in an array of 0 and 1\n",
    "    for example 1010110111 will return 2 \"\"\"\n",
    "    counter = 0 \n",
    "    one_counter = 0\n",
    "    for number in array:\n",
    "        if number == \"1\":\n",
    "            counter+=1\n",
    "        else:\n",
    "            if counter>1:\n",
    "                one_counter += 1\n",
    "                counter = 0\n",
    "            else:\n",
    "                counter = 0\n",
    "    if counter >1:\n",
    "        one_counter += 1\n",
    "    return(one_counter)\n",
    "\n",
    "\n",
    "# print(countOnes(\"110110111111110\"))\n",
    "\n",
    "\n",
    "\n",
    "\n",
    "\n",
    "from typing import Tuple, List\n",
    "\n",
    "def reversedRange(data: Tuple[List[int], int, int]) -> list:\n",
    "    my_list, index1, index2 = data\n",
    "    rev_list = my_list[index1:index2+1]\n",
    "    rev_list = rev_list[::-1]\n",
    "    new_list = []\n",
    "    \n",
    "    # for i in range(len(my_list)):\n",
    "    #     if i < index1:\n",
    "    #         new_list.append(my_list[i])\n",
    "    #     elif i == index1 or i<= index2:\n",
    "    #         new_list.append(rev_list)\n",
    "    #     elif i> index2 and i<= len(my_list):\n",
    "    #         new_list.append(my_list[i])\n",
    "    new_list= my_list[0:index1] \n",
    "    for _ in rev_list:\n",
    "        new_list.append(_)\n",
    "    for _ in my_list[index2+1:]:\n",
    "        new_list.append(_)\n",
    "    return(new_list)\n",
    "            \n",
    "    \n",
    "data=([0,1,2,3,4,5,6,7,8,9],2,5)\n",
    "# print(reversedRange(data))\n",
    "\n",
    "\n",
    "\n",
    "def reversedBinaryInteger(x:int)-> list:\n",
    "    my_list=[]\n",
    "    while x >= 1 :\n",
    "        my_list.append(x%2)\n",
    "        x = x //  2\n",
    "# print(reversedBinaryInteger(10))\n",
    "from typing import List\n",
    "\n",
    "def gcd( array :list)-> int:\n",
    "    gcd = 0\n",
    "    list_of_gcd = []\n",
    "    list_of_gcds = []\n",
    "    devide_remaining = 0\n",
    "    array = sorted(array, reverse = False)\n",
    "    def return_list_of_gcds(number:int)->int:\n",
    "        for i in range (1,number+1):\n",
    "            devide_remaining  = number % i\n",
    "            if  devide_remaining  == 0:\n",
    "                list_of_gcd.append(i)\n",
    "            gcd = max(list_of_gcd)\n",
    "        return(gcd)\n",
    "    for number in array:\n",
    "        list_of_gcd.clear()\n",
    "        list_of_gcds.append(return_list_of_gcds(number))\n",
    "        \n",
    "    return(list_of_gcds)\n",
    "\n",
    "\n",
    "print(gcd([6,12,30,5])) \n",
    "\n",
    "\n",
    "\n"
   ]
  },
  {
   "cell_type": "code",
   "execution_count": 62,
   "metadata": {},
   "outputs": [
    {
     "name": "stdout",
     "output_type": "stream",
     "text": [
      "[19, 38, 76, 133]\n",
      "{19: [19], 38: [2, 19, 38], 76: [2, 4, 19, 38, 76], 133: [7, 19, 133]}\n"
     ]
    }
   ],
   "source": [
    "\n",
    "array = [19,38,76,133]\n",
    "array = sorted(array , reverse = False)\n",
    "\n",
    "\n",
    "print(array)\n",
    "array_dict = {}\n",
    "for item in array:\n",
    "    array_dict[item] = []\n",
    "    \n",
    "for value in array:\n",
    "    for i in range(2,value+1):\n",
    "        if value % i == 0:\n",
    "            array_dict[value].append(i)\n",
    "            \n",
    "print(array_dict)\n",
    "    \n",
    "\n",
    "\n",
    "\n"
   ]
  },
  {
   "cell_type": "code",
   "execution_count": 10,
   "metadata": {},
   "outputs": [
    {
     "name": "stdout",
     "output_type": "stream",
     "text": [
      "19\n"
     ]
    }
   ],
   "source": [
    "\n",
    "array = [19,38,76,133]\n",
    "array = sorted(array , reverse = False)\n",
    "\n",
    "result = array[0]\n",
    "def gcd(x,y):\n",
    "    while(y):\n",
    "        x,y = y,x%y\n",
    "    return(x)\n",
    "for value in array[1:]:\n",
    "    result= gcd(result,value)\n",
    "\n",
    "print(result)\n",
    "    \n",
    "\n",
    "\n"
   ]
  },
  {
   "cell_type": "code",
   "execution_count": 15,
   "metadata": {},
   "outputs": [
    {
     "name": "stdout",
     "output_type": "stream",
     "text": [
      "2\n"
     ]
    }
   ],
   "source": [
    "def box(items):\n",
    "    \n",
    "    \n",
    "    max_box =10\n",
    "    box_weight=0\n",
    "    box=0\n",
    "    for item in items:\n",
    "        if box_weight+item <= max_box: \n",
    "            box_weight+=item\n",
    "            continue\n",
    "        else:\n",
    "            box += 1\n",
    "            box_weight = 0\n",
    "    return(box)\n",
    "\n",
    "print(box ([2,3,8,5,4,2]))\n",
    "\n",
    "\n",
    "    \n",
    "    "
   ]
  },
  {
   "cell_type": "code",
   "execution_count": null,
   "metadata": {},
   "outputs": [],
   "source": [
    "def box(items):\n",
    "    \n",
    "    \n",
    "    max_box =10\n",
    "    box_weight=0\n",
    "    box=0\n",
    "    for item in items:\n",
    "        if box_weight+item <= max_box: \n",
    "            box_weight+=item\n",
    "            continue\n",
    "        else:\n",
    "            box += 1\n",
    "            box_weight = item\n",
    "    box+=1\n",
    "    return(box)\n",
    "\n",
    "print(box ([2,3,8,5,4,2]))"
   ]
  },
  {
   "cell_type": "code",
   "execution_count": null,
   "metadata": {},
   "outputs": [],
   "source": []
  },
  {
   "cell_type": "code",
   "execution_count": 3,
   "metadata": {},
   "outputs": [
    {
     "ename": "IndexError",
     "evalue": "list index out of range",
     "output_type": "error",
     "traceback": [
      "\u001b[0;31m---------------------------------------------------------------------------\u001b[0m",
      "\u001b[0;31mIndexError\u001b[0m                                Traceback (most recent call last)",
      "Cell \u001b[0;32mIn[3], line 13\u001b[0m\n\u001b[1;32m      9\u001b[0m         comp(array[i],array[i\u001b[38;5;241m+\u001b[39m\u001b[38;5;241m1\u001b[39m])\n\u001b[1;32m     11\u001b[0m     \u001b[38;5;28;01mreturn\u001b[39;00m(my_s)\n\u001b[0;32m---> 13\u001b[0m \u001b[38;5;28mprint\u001b[39m(\u001b[43mstring\u001b[49m\u001b[43m(\u001b[49m\u001b[43m[\u001b[49m\u001b[38;5;241;43m12341\u001b[39;49m\u001b[43m]\u001b[49m\u001b[43m)\u001b[49m)\n",
      "Cell \u001b[0;32mIn[3], line 9\u001b[0m, in \u001b[0;36mstring\u001b[0;34m(array)\u001b[0m\n\u001b[1;32m      6\u001b[0m         \u001b[38;5;28;01mreturn\u001b[39;00m(my_s)\n\u001b[1;32m      8\u001b[0m \u001b[38;5;28;01mfor\u001b[39;00m i \u001b[38;5;129;01min\u001b[39;00m \u001b[38;5;28mrange\u001b[39m(\u001b[38;5;241m0\u001b[39m,\u001b[38;5;28mlen\u001b[39m(array)):\n\u001b[0;32m----> 9\u001b[0m     comp(array[i],\u001b[43marray\u001b[49m\u001b[43m[\u001b[49m\u001b[43mi\u001b[49m\u001b[38;5;241;43m+\u001b[39;49m\u001b[38;5;241;43m1\u001b[39;49m\u001b[43m]\u001b[49m)\n\u001b[1;32m     11\u001b[0m \u001b[38;5;28;01mreturn\u001b[39;00m(my_s)\n",
      "\u001b[0;31mIndexError\u001b[0m: list index out of range"
     ]
    }
   ],
   "source": [
    "def string(array):\n",
    "    my_s= []\n",
    "    def comp(x,y):\n",
    "        if ((x%2==0 and y%2!=0) or (x%2!=0 and y%2==0)) and x != y:\n",
    "            my_s.append(x)\n",
    "            return(my_s)\n",
    "            \n",
    "    for i in range(0,len(array)):\n",
    "        comp(array[i],array[i+1])\n",
    "\n",
    "    return(my_s)\n",
    "\n",
    "print(string([12341]))\n",
    "            \n",
    "            "
   ]
  },
  {
   "cell_type": "code",
   "execution_count": 1,
   "metadata": {},
   "outputs": [
    {
     "name": "stdout",
     "output_type": "stream",
     "text": [
      "123,,4\n"
     ]
    }
   ],
   "source": [
    "def longestSubset(array):\n",
    "    str_result = str(array[0])\n",
    "    i=1\n",
    "    while(i< len(array)):\n",
    "        if array[i-1]%2 == 0 and array[i]%2 != 0:\n",
    "            str_result += str(array[i])\n",
    "            i+=1\n",
    "        elif array[i-1]%2 != 0 and array[i]%2 == 0:\n",
    "            str_result += str(array[i])\n",
    "            i+=1\n",
    "        elif array[i-1]%2 != 0 and array[i]%2 != 0:\n",
    "            str_result += str(\",\")\n",
    "            i+=1\n",
    "        elif array[i-1]%2 == 0 and array[i]%2 == 0:\n",
    "            str_result += str(\",\")\n",
    "            i+=1\n",
    "        \n",
    "    return(str_result)\n",
    "print(longestSubset([1,2,3,3,3,4]))\n"
   ]
  },
  {
   "cell_type": "code",
   "execution_count": 7,
   "metadata": {},
   "outputs": [
    {
     "name": "stdout",
     "output_type": "stream",
     "text": [
      "123,3,345,74,4,4,4141414\n"
     ]
    }
   ],
   "source": [
    "def longestSubset(array):\n",
    "    str_result = str(array[0])\n",
    "    i=1\n",
    "    while(i< len(array)):\n",
    "        if array[i-1]%2!= array[i]%2 :\n",
    "            str_result += str(array[i])\n",
    "            i+=1\n",
    "        elif array[i-1]%2 == array[i]%2 :\n",
    "            str_result +=\",\"+  str(array[i])\n",
    "            i+=1\n",
    "        \n",
    "    return(str_result)\n",
    "print(longestSubset([1,2,3,3,3,4,5,7,4,4,4,4,1,4,1,4,1,4]))\n"
   ]
  },
  {
   "cell_type": "code",
   "execution_count": 16,
   "metadata": {},
   "outputs": [
    {
     "name": "stdout",
     "output_type": "stream",
     "text": [
      "['123', '3', '345', '74', '4', '4', '4141414']\n",
      "3\n"
     ]
    }
   ],
   "source": [
    "input_string=\"123,3,345,74,4,4,4141414\"\n",
    "\n",
    "substrings = input_string.split(\",\")\n",
    "print(substrings)\n",
    "print(len(substrings[0]))"
   ]
  },
  {
   "cell_type": "code",
   "execution_count": 20,
   "metadata": {},
   "outputs": [
    {
     "name": "stdout",
     "output_type": "stream",
     "text": [
      "(7, '4141414')\n"
     ]
    }
   ],
   "source": [
    "def longest_sub(input_str):\n",
    "    max = 0\n",
    "    longest_str=\"\"\n",
    "    sub_strs = input_str.split(',')\n",
    "    for s in sub_strs:\n",
    "        if len(s)>max:\n",
    "            max = len(s)\n",
    "            longest_str = s\n",
    "    return(max,longest_str)\n",
    "print(longest_sub(\"123,3,345,74,4,4,4141414\"))\n",
    "    "
   ]
  },
  {
   "cell_type": "code",
   "execution_count": 22,
   "metadata": {},
   "outputs": [],
   "source": [
    "def longestSubset(array):\n",
    "    str_result = str(array[0])\n",
    "    i=1\n",
    "    while(i< len(array)):\n",
    "        if array[i-1]%2!= array[i]%2 :\n",
    "            str_result += str(array[i])\n",
    "            i+=1\n",
    "        elif array[i-1]%2 == array[i]%2 :\n",
    "            str_result +=\",\"+  str(array[i])\n",
    "            i+=1\n",
    "\n",
    "    def longest_sub(input_str):\n",
    "        max = 0\n",
    "        longest_str=\"\"\n",
    "        sub_strs = input_str.split(',')\n",
    "        for s in sub_strs:\n",
    "            if len(s)>max:\n",
    "                max = len(s)\n",
    "                longest_str = s\n",
    "        return(max,longest_str)\n",
    "    \n",
    "    return(longest_sub(str_result))\n",
    "\n",
    "\n",
    "\n",
    "longestSubset(["
   ]
  },
  {
   "cell_type": "code",
   "execution_count": null,
   "metadata": {},
   "outputs": [],
   "source": [
    "\n"
   ]
  }
 ],
 "metadata": {
  "kernelspec": {
   "display_name": "Python 3 (ipykernel)",
   "language": "python",
   "name": "python3"
  },
  "language_info": {
   "codemirror_mode": {
    "name": "ipython",
    "version": 3
   },
   "file_extension": ".py",
   "mimetype": "text/x-python",
   "name": "python",
   "nbconvert_exporter": "python",
   "pygments_lexer": "ipython3",
   "version": "3.10.12"
  }
 },
 "nbformat": 4,
 "nbformat_minor": 4
}
