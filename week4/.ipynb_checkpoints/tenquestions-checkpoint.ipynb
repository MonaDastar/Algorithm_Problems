{
 "cells": [
  {
   "cell_type": "code",
   "execution_count": 4,
   "metadata": {},
   "outputs": [
    {
     "ename": "ValueError",
     "evalue": "invalid literal for int() with base 10: 'm'",
     "output_type": "error",
     "traceback": [
      "\u001b[0;31m---------------------------------------------------------------------------\u001b[0m",
      "\u001b[0;31mValueError\u001b[0m                                Traceback (most recent call last)",
      "Cell \u001b[0;32mIn[4], line 8\u001b[0m\n\u001b[1;32m      5\u001b[0m             \u001b[38;5;28mprint\u001b[39m(s)\n\u001b[1;32m      6\u001b[0m             \u001b[38;5;28;01mbreak\u001b[39;00m\n\u001b[0;32m----> 8\u001b[0m \u001b[43mleftDigit\u001b[49m\u001b[43m(\u001b[49m\u001b[38;5;124;43m\"\u001b[39;49m\u001b[38;5;124;43mmona1Dastar\u001b[39;49m\u001b[38;5;124;43m\"\u001b[39;49m\u001b[43m)\u001b[49m\n",
      "Cell \u001b[0;32mIn[4], line 4\u001b[0m, in \u001b[0;36mleftDigit\u001b[0;34m(string)\u001b[0m\n\u001b[1;32m      2\u001b[0m \u001b[38;5;250m\u001b[39m\u001b[38;5;124;03m\"\"\" gets string returns the first integer in the left of the string\"\"\"\u001b[39;00m\n\u001b[1;32m      3\u001b[0m \u001b[38;5;28;01mfor\u001b[39;00m s \u001b[38;5;129;01min\u001b[39;00m string:\n\u001b[0;32m----> 4\u001b[0m     \u001b[38;5;28;01mif\u001b[39;00m \u001b[38;5;28;43mint\u001b[39;49m\u001b[43m(\u001b[49m\u001b[43ms\u001b[49m\u001b[43m)\u001b[49m \u001b[38;5;129;01min\u001b[39;00m \u001b[38;5;28mrange\u001b[39m(\u001b[38;5;241m0\u001b[39m,\u001b[38;5;241m10\u001b[39m):\n\u001b[1;32m      5\u001b[0m         \u001b[38;5;28mprint\u001b[39m(s)\n\u001b[1;32m      6\u001b[0m         \u001b[38;5;28;01mbreak\u001b[39;00m\n",
      "\u001b[0;31mValueError\u001b[0m: invalid literal for int() with base 10: 'm'"
     ]
    }
   ],
   "source": [
    "def leftDigit(string):\n",
    "    \"\"\" gets string returns the first integer in the left of the string\"\"\"\n",
    "    for s in string:\n",
    "        if int(s) in range(0,10):\n",
    "            print(s)\n",
    "            break\n",
    "\n",
    "leftDigit(\"mona1Dastar\")\n",
    "          \n",
    "    "
   ]
  },
  {
   "cell_type": "code",
   "execution_count": 5,
   "metadata": {},
   "outputs": [
    {
     "name": "stdout",
     "output_type": "stream",
     "text": [
      "1\n"
     ]
    }
   ],
   "source": [
    "def leftDigit(string):\n",
    "    \"\"\" gets string returns the first integer in the left of the string\"\"\"\n",
    "    for s in string:\n",
    "        if s.isdigit():\n",
    "            print(s)\n",
    "            break\n",
    "\n",
    "leftDigit(\"mona1Dastar\")\n",
    "          \n",
    "    "
   ]
  },
  {
   "cell_type": "code",
   "execution_count": 12,
   "metadata": {},
   "outputs": [
    {
     "name": "stdout",
     "output_type": "stream",
     "text": [
      "1\n"
     ]
    }
   ],
   "source": [
    "def countOnes(array):\n",
    "    \"\"\" retutns the number of adjacent ones in an array of 0 and 1\n",
    "    for example 1010110111 will return 2 \"\"\"\n",
    "    counter = 0 \n",
    "    one_counter = 0\n",
    "    for number in array:\n",
    "        if number == \"1\":\n",
    "            counter+=1\n",
    "        else:\n",
    "            if counter>1:\n",
    "                one_counter += 1\n",
    "            else:\n",
    "                counter = 0\n",
    "    if counter == len(array):\n",
    "        one_counter = 1\n",
    "    return(one_counter)\n",
    "\n",
    "\n",
    "print(countOnes(\"11011\"))\n",
    "            \n",
    "            "
   ]
  },
  {
   "cell_type": "code",
   "execution_count": 14,
   "metadata": {},
   "outputs": [
    {
     "name": "stdout",
     "output_type": "stream",
     "text": [
      "3\n"
     ]
    }
   ],
   "source": [
    "def countOnes(array):\n",
    "    \"\"\" returns the number of adjacent ones in an array of 0 and 1\n",
    "    for example 1010110111 will return 2 \"\"\"\n",
    "    counter = 0 \n",
    "    one_counter = 0\n",
    "    for number in array:\n",
    "        if number == \"1\":\n",
    "            counter+=1\n",
    "        else:\n",
    "            if counter>1:\n",
    "                one_counter += 1\n",
    "                counter = 0\n",
    "            else:\n",
    "                counter = 0\n",
    "    if counter >1:\n",
    "        one_counter += 1\n",
    "    return(one_counter)\n",
    "\n",
    "\n",
    "print(countOnes(\"11011011111111\"))"
   ]
  },
  {
   "cell_type": "code",
   "execution_count": 15,
   "metadata": {},
   "outputs": [],
   "source": [
    "from typing import Tuple, List\n",
    "\n",
    "def reversedRange(data: Tuple[List[int], int, int]) -> list:\n",
    "    my_list, index1, index2 = data\n",
    "    rev_list = my_list[index1:index2+1]\n",
    "    rev_list = rev_list[::-1]\n",
    "    new_list = []\n",
    "    \n",
    "    for i in range(len(my_list)):\n",
    "        if i < index1:\n",
    "            new_list.append(my_list[i])\n",
    "        elif i == index1 or i<= index2:\n",
    "            new_list.append(rev_list)\n",
    "        elif i> index2 and i<= len(my_list):\n",
    "            new_list.append(my_list[i])\n",
    "\n"
   ]
  },
  {
   "cell_type": "code",
   "execution_count": 16,
   "metadata": {},
   "outputs": [
    {
     "name": "stdout",
     "output_type": "stream",
     "text": [
      "[0, 1, 5, 4, 3, 2, 6, 7, 8, 9]\n"
     ]
    }
   ],
   "source": [
    "def countOnes(array):\n",
    "    \"\"\" returns the number of adjacent ones in an array of 0 and 1\n",
    "    for example 1010110111 will return 2 \"\"\"\n",
    "    counter = 0 \n",
    "    one_counter = 0\n",
    "    for number in array:\n",
    "        if number == \"1\":\n",
    "            counter+=1\n",
    "        else:\n",
    "            if counter>1:\n",
    "                one_counter += 1\n",
    "                counter = 0\n",
    "            else:\n",
    "                counter = 0\n",
    "    if counter >1:\n",
    "        one_counter += 1\n",
    "    return(one_counter)\n",
    "\n",
    "\n",
    "# print(countOnes(\"110110111111110\"))\n",
    "\n",
    "\n",
    "\n",
    "\n",
    "\n",
    "from typing import Tuple, List\n",
    "\n",
    "def reversedRange(data: Tuple[List[int], int, int]) -> list:\n",
    "    my_list, index1, index2 = data\n",
    "    rev_list = my_list[index1:index2+1]\n",
    "    rev_list = rev_list[::-1]\n",
    "    new_list = []\n",
    "    \n",
    "    # for i in range(len(my_list)):\n",
    "    #     if i < index1:\n",
    "    #         new_list.append(my_list[i])\n",
    "    #     elif i == index1 or i<= index2:\n",
    "    #         new_list.append(rev_list)\n",
    "    #     elif i> index2 and i<= len(my_list):\n",
    "    #         new_list.append(my_list[i])\n",
    "    new_list= my_list[0:index1] \n",
    "    for _ in rev_list:\n",
    "        new_list.append(_)\n",
    "    for _ in my_list[index2+1:]:\n",
    "        new_list.append(_)\n",
    "    return(new_list)\n",
    "            \n",
    "    \n",
    "data=([0,1,2,3,4,5,6,7,8,9],2,5)\n",
    "print(reversedRange(data))\n"
   ]
  },
  {
   "cell_type": "code",
   "execution_count": 22,
   "metadata": {},
   "outputs": [
    {
     "name": "stdout",
     "output_type": "stream",
     "text": [
      "False\n"
     ]
    }
   ],
   "source": [
    "def isFactorial(x:int)-> bool:\n",
    "    if x % 2 != 0 :\n",
    "        return False\n",
    "    else:\n",
    "        for i in range(2,x):\n",
    "            x = x / i\n",
    "            if x==1:\n",
    "                return True\n",
    "                break\n",
    "        if x!=1:\n",
    "            return(False)\n",
    "print(isFactorial(4))"
   ]
  },
  {
   "cell_type": "code",
   "execution_count": null,
   "metadata": {},
   "outputs": [],
   "source": []
  }
 ],
 "metadata": {
  "kernelspec": {
   "display_name": "Python 3 (ipykernel)",
   "language": "python",
   "name": "python3"
  },
  "language_info": {
   "codemirror_mode": {
    "name": "ipython",
    "version": 3
   },
   "file_extension": ".py",
   "mimetype": "text/x-python",
   "name": "python",
   "nbconvert_exporter": "python",
   "pygments_lexer": "ipython3",
   "version": "3.10.12"
  }
 },
 "nbformat": 4,
 "nbformat_minor": 4
}
